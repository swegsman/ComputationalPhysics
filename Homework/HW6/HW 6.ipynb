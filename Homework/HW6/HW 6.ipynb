{
 "cells": [
  {
   "cell_type": "markdown",
   "metadata": {},
   "source": [
    "#### Computational Physics - Fall 2020\n",
    "#### Shalma Wegsman\n",
    "\n",
    "## Homework #6\n",
    "\n",
    "### Problem 1 - Inverse Power Distribution\n",
    "(A)\n",
    "To normalize, set:\n",
    "\n",
    "$$ 1 = \\int_0^{\\infty} f(x) dx = \\int_0^{\\infty}\\frac{A}{(x+1)^n}dx = A \\bigg[ \\frac{(x+1)^{-n+1}}{-n+1} \\bigg]_0^{\\infty} = \\frac{A}{n-1}$$ \n",
    "\n",
    "$$ \\Rightarrow A = n-1$$\n",
    "\n",
    "So we have normalized f(x): $$f(x) = \\frac{n-1}{(x+1)^n}$$\n",
    "\n",
    "(B)\n",
    "Let's now compute the cumulative distribution:\n",
    "\n",
    "$$ P(x) = \\int_0^x f(x') dx' = \\int_0^x \\frac{n-1}{(x'+1)^n}dx' = \\frac{n-1}{-n-1} \\big[(x'+1)^{-n+1} \\big]_0^x = -[(x+1)^{-n+1}-1] $$\n",
    "\n",
    "Set this equal to r and invert to find:\n",
    "\n",
    "$$ x(r) = (-r+1)^{1/(1-n)}-1 $$\n",
    "\n",
    "(C)"
   ]
  },
  {
   "cell_type": "code",
   "execution_count": 3,
   "metadata": {},
   "outputs": [],
   "source": [
    "import numpy as np\n",
    "import math\n",
    "import matplotlib.pyplot as plt"
   ]
  },
  {
   "cell_type": "code",
   "execution_count": 2,
   "metadata": {},
   "outputs": [],
   "source": [
    "def f(x,n): #to compare\n",
    "    return((n-1)/((x+1)**n))"
   ]
  },
  {
   "cell_type": "code",
   "execution_count": 3,
   "metadata": {},
   "outputs": [],
   "source": [
    "r = np.random.random(size=10000)\n",
    "n=4\n",
    "x = (-r+1)**(1/(1-n))-1"
   ]
  },
  {
   "cell_type": "code",
   "execution_count": 45,
   "metadata": {},
   "outputs": [
    {
     "data": {
      "image/png": "[encoded data removed]",
      "text/plain": [
       "<Figure size 432x288 with 1 Axes>"
      ]
     },
     "metadata": {
      "needs_background": "light"
     },
     "output_type": "display_data"
    }
   ],
   "source": [
    "nbins = 100\n",
    "xx = np.linspace(0,20,100)\n",
    "yy = [f(i,4) for i in xx]\n",
    "\n",
    "#fig = plt.figure(1)\n",
    "#ax = fig.add_subplot(111)\n",
    "\n",
    "plt.hist(x,bins=nbins,density=True)\n",
    "plt.plot(xx,yy,label='f(x)')\n",
    "\n",
    "plt.ylabel('N')\n",
    "plt.xlabel('x')\n",
    "#plt.xlim(0,10)\n",
    "plt.legend()\n",
    "plt.show()"
   ]
  },
  {
   "cell_type": "markdown",
   "metadata": {},
   "source": [
    "### Problem 2 - Drunk on a Valley/Hill\n",
    "(A)"
   ]
  },
  {
   "cell_type": "code",
   "execution_count": 4,
   "metadata": {},
   "outputs": [],
   "source": [
    "def RandomWalk(k,N): #inputs are the probability of a forward step (k) and number of steps (N)\n",
    "    loc = 0\n",
    "    locs=[]\n",
    "    for n in range(N):\n",
    "        r = np.random.random()\n",
    "        if loc==0:\n",
    "            if r<0.5:\n",
    "                loc+=1\n",
    "            else:\n",
    "                loc-=1\n",
    "        else:\n",
    "            if r<k: #moves away from origin\n",
    "                if loc>0: \n",
    "                    loc+=1\n",
    "                else:\n",
    "                    loc-=1\n",
    "            else: #moves towards origin\n",
    "                if loc>0:\n",
    "                    loc-=1\n",
    "                else:\n",
    "                    loc+=1\n",
    "        locs.append(loc)\n",
    "    return(locs)"
   ]
  },
  {
   "cell_type": "code",
   "execution_count": 6,
   "metadata": {},
   "outputs": [
    {
     "data": {
      "text/plain": [
       "[-1, -2, -1, 0, -1, -2, -1, -2, -1, -2]"
      ]
     },
     "execution_count": 6,
     "metadata": {},
     "output_type": "execute_result"
    }
   ],
   "source": [
    "RandomWalk(0.25,10)"
   ]
  },
  {
   "cell_type": "markdown",
   "metadata": {},
   "source": [
    "(B)"
   ]
  },
  {
   "cell_type": "code",
   "execution_count": 57,
   "metadata": {},
   "outputs": [],
   "source": [
    "locs25=[]\n",
    "k=0.25\n",
    "N=10000\n",
    "for x in range(1000):\n",
    "    locs =RandomWalk(k,N)\n",
    "    for i in range(len(locs)):\n",
    "        locs25.append(locs[i])"
   ]
  },
  {
   "cell_type": "code",
   "execution_count": 65,
   "metadata": {},
   "outputs": [
    {
     "data": {
      "text/plain": [
       "Text(0, 0.5, 'Counts')"
      ]
     },
     "execution_count": 65,
     "metadata": {},
     "output_type": "execute_result"
    },
    {
     "data": {
      "image/png": "[encoded data removed]",
      "text/plain": [
       "<Figure size 432x288 with 1 Axes>"
      ]
     },
     "metadata": {
      "needs_background": "light"
     },
     "output_type": "display_data"
    }
   ],
   "source": [
    "plt.hist(locs25,weights=np.ones(len(locs25))/1000) #to average\n",
    "plt.yscale('log')\n",
    "plt.title('k=0.25')\n",
    "plt.xlabel('Location')\n",
    "plt.ylabel('Counts')"
   ]
  },
  {
   "cell_type": "code",
   "execution_count": 66,
   "metadata": {},
   "outputs": [
    {
     "data": {
      "text/plain": [
       "Text(0, 0.5, 'Counts')"
      ]
     },
     "execution_count": 66,
     "metadata": {},
     "output_type": "execute_result"
    },
    {
     "data": {
      "image/png": "[encoded data removed]",
      "text/plain": [
       "<Figure size 432x288 with 1 Axes>"
      ]
     },
     "metadata": {
      "needs_background": "light"
     },
     "output_type": "display_data"
    }
   ],
   "source": [
    "locs50=[]\n",
    "k=0.5\n",
    "N=10000\n",
    "for x in range(1000):\n",
    "    locs = RandomWalk(k,N)\n",
    "    for i in range(len(locs)):\n",
    "        locs50.append(locs[i])\n",
    "\n",
    "plt.hist(locs50,weights=np.ones(len(locs50))/1000)\n",
    "plt.title('k=0.50')\n",
    "plt.xlabel('Location')\n",
    "plt.ylabel('Counts')"
   ]
  },
  {
   "cell_type": "code",
   "execution_count": 67,
   "metadata": {},
   "outputs": [
    {
     "data": {
      "text/plain": [
       "Text(0, 0.5, 'Counts')"
      ]
     },
     "execution_count": 67,
     "metadata": {},
     "output_type": "execute_result"
    },
    {
     "data": {
      "image/png": "[encoded data removed]",
      "text/plain": [
       "<Figure size 432x288 with 1 Axes>"
      ]
     },
     "metadata": {
      "needs_background": "light"
     },
     "output_type": "display_data"
    }
   ],
   "source": [
    "locs75=[]\n",
    "k=0.75\n",
    "N=10000\n",
    "for x in range(1000):\n",
    "    locs=RandomWalk(k,N)\n",
    "    for i in range(len(locs)):\n",
    "        locs75.append(locs[i])\n",
    "    \n",
    "plt.hist(locs75,weights=np.ones(len(locs25))/1000)\n",
    "plt.title('k=0.75')\n",
    "plt.xlabel('Location')\n",
    "plt.ylabel('Counts')"
   ]
  },
  {
   "cell_type": "code",
   "execution_count": 44,
   "metadata": {},
   "outputs": [
    {
     "name": "stderr",
     "output_type": "stream",
     "text": [
      "C:\\Users\\shalm\\Anaconda3\\lib\\site-packages\\ipykernel_launcher.py:20: RuntimeWarning: invalid value encountered in sqrt\n"
     ]
    }
   ],
   "source": [
    "rms_25 = []\n",
    "rms_50 = []\n",
    "rms_75 = []\n",
    "N=10000\n",
    "\n",
    "locs25_array = np.reshape(locs25,(1000,10000))\n",
    "locs50_array = np.reshape(locs50,(1000,10000))\n",
    "locs75_array = np.reshape(locs75,(1000,10000))\n",
    "    \n",
    "for n in range(N):\n",
    "    rms_25_i =[]\n",
    "    rms_50_i =[]\n",
    "    rms_75_i =[]\n",
    "    for i in range(1000):\n",
    "        rms_25_i.append(locs25_array[i][n]**2)\n",
    "        rms_50_i.append(locs50_array[i][n]**2)\n",
    "        rms_75_i.append(locs75_array[i][n]**2)\n",
    "    rms_25.append(np.sqrt(np.sum(rms_25_i)/1000))\n",
    "    rms_50.append(np.sqrt(np.sum(rms_50_i)/1000))\n",
    "    rms_75.append(np.sqrt(np.sum(rms_75_i)/1000))"
   ]
  },
  {
   "cell_type": "code",
   "execution_count": 45,
   "metadata": {},
   "outputs": [
    {
     "data": {
      "text/plain": [
       "Text(0, 0.5, 'RMS')"
      ]
     },
     "execution_count": 45,
     "metadata": {},
     "output_type": "execute_result"
    },
    {
     "data": {
      "image/png": "[encoded data removed]",
      "text/plain": [
       "<Figure size 432x288 with 1 Axes>"
      ]
     },
     "metadata": {
      "needs_background": "light"
     },
     "output_type": "display_data"
    }
   ],
   "source": [
    "x = np.arange(N)\n",
    "plt.plot(x,rms_25,label='k=0.25')\n",
    "plt.title('RMS for k=0.25')\n",
    "plt.xlabel('N')\n",
    "plt.ylabel('RMS')"
   ]
  },
  {
   "cell_type": "code",
   "execution_count": 46,
   "metadata": {},
   "outputs": [
    {
     "data": {
      "text/plain": [
       "Text(0, 0.5, 'RMS')"
      ]
     },
     "execution_count": 46,
     "metadata": {},
     "output_type": "execute_result"
    },
    {
     "data": {
      "image/png": "[encoded data removed]",
      "text/plain": [
       "<Figure size 432x288 with 1 Axes>"
      ]
     },
     "metadata": {
      "needs_background": "light"
     },
     "output_type": "display_data"
    }
   ],
   "source": [
    "plt.plot(x,rms_50,label='k=0.5')\n",
    "plt.title('RMS for k=0.5')\n",
    "plt.xlabel('N')\n",
    "plt.ylabel('RMS')"
   ]
  },
  {
   "cell_type": "code",
   "execution_count": 47,
   "metadata": {},
   "outputs": [
    {
     "data": {
      "text/plain": [
       "Text(0, 0.5, 'RMS')"
      ]
     },
     "execution_count": 47,
     "metadata": {},
     "output_type": "execute_result"
    },
    {
     "data": {
      "image/png": "[encoded data removed]",
      "text/plain": [
       "<Figure size 432x288 with 1 Axes>"
      ]
     },
     "metadata": {
      "needs_background": "light"
     },
     "output_type": "display_data"
    }
   ],
   "source": [
    "plt.plot(x,rms_75,label='k=0.75')\n",
    "plt.title('RMS for k=0.75')\n",
    "plt.xlabel('N')\n",
    "plt.ylabel('RMS')"
   ]
  },
  {
   "cell_type": "markdown",
   "metadata": {},
   "source": [
    "For k=0.25, the random walk preferences staying towards the origin, so it makes sense for the rms to stay around there for even high step number N. But for k=0.5, the RMS increases with N. I'm not sure what's going on with k=0.75."
   ]
  },
  {
   "cell_type": "markdown",
   "metadata": {},
   "source": [
    "(d)"
   ]
  },
  {
   "cell_type": "code",
   "execution_count": 48,
   "metadata": {},
   "outputs": [],
   "source": [
    "def OriginTest(k,N):\n",
    "    loc = 0\n",
    "    start = 0 # just so the initial location doesn't cause the code to break\n",
    "    for n in range(N):\n",
    "        r = np.random.random()\n",
    "        if loc==0:\n",
    "            if start ==1:\n",
    "                return(n)\n",
    "            start = 1\n",
    "            if r<0.5:\n",
    "                loc+=1\n",
    "            else:\n",
    "                loc-=1\n",
    "        else:\n",
    "            if r<k: #moves away from origin\n",
    "                if loc>0: \n",
    "                    loc+=1\n",
    "                else:\n",
    "                    loc-=1\n",
    "            else: #moves towards origin\n",
    "                if loc>0:\n",
    "                    loc-=1\n",
    "                else:\n",
    "                    loc+=1\n",
    "    return(0)"
   ]
  },
  {
   "cell_type": "code",
   "execution_count": 49,
   "metadata": {},
   "outputs": [],
   "source": [
    "def ProbOrigin(k,N,n):\n",
    "    count = 0\n",
    "    for x in range(n):\n",
    "        c = OriginTest(k,N)\n",
    "        if c!=0:\n",
    "            count+=1\n",
    "    return(count/n)"
   ]
  },
  {
   "cell_type": "code",
   "execution_count": 52,
   "metadata": {},
   "outputs": [
    {
     "name": "stdout",
     "output_type": "stream",
     "text": [
      "P(returning to origin in N=10000 steps, k=0.2) =  1.0\n",
      "P(returning to origin in N=10000 steps, k=0.4) =  1.0\n",
      "P(returning to origin in N=10000 steps, k=0.6) =  0.646\n",
      "P(returning to origin in N=10000 steps, k=0.8) =  0.247\n",
      "\n",
      "P(returning to origin in N=10^6 steps, k=0.2) =  1.0\n",
      "P(returning to origin in N=10^6 steps, k=0.4) =  1.0\n",
      "P(returning to origin in N=10^6 steps, k=0.6) =  0.56\n",
      "P(returning to origin in N=10^6 steps, k=0.8) =  0.28\n"
     ]
    }
   ],
   "source": [
    "print('P(returning to origin in N=10000 steps, k=0.2) = ',ProbOrigin(0.2,10000,1000))\n",
    "print('P(returning to origin in N=10000 steps, k=0.4) = ',ProbOrigin(0.4,10000,1000))\n",
    "print('P(returning to origin in N=10000 steps, k=0.6) = ',ProbOrigin(0.6,10000,1000))\n",
    "print('P(returning to origin in N=10000 steps, k=0.8) = ',ProbOrigin(0.8,10000,1000))\n",
    "print('')\n",
    "print('P(returning to origin in N=10^6 steps, k=0.2) = ',ProbOrigin(0.2,int(1e6),100))\n",
    "print('P(returning to origin in N=10^6 steps, k=0.4) = ',ProbOrigin(0.4,int(1e6),100))\n",
    "print('P(returning to origin in N=10^6 steps, k=0.6) = ',ProbOrigin(0.6,int(1e6),100))\n",
    "print('P(returning to origin in N=10^6 steps, k=0.8) = ',ProbOrigin(0.8,int(1e6),100))"
   ]
  },
  {
   "cell_type": "markdown",
   "metadata": {},
   "source": [
    "It looks like over an infinite number of steps, the probability of returning to the origin for k values less than 0.5 is 1. However, for k values above 0.5 the probability converges at less than 1. "
   ]
  },
  {
   "cell_type": "markdown",
   "metadata": {},
   "source": [
    "### Problem 3 - Dark Matter Halos"
   ]
  },
  {
   "cell_type": "code",
   "execution_count": 129,
   "metadata": {},
   "outputs": [],
   "source": [
    "def rho(r,z,Q):\n",
    "    M_sun = 1 #solar mass, or 1.989 × 10^30 #kg\n",
    "    rho0 = 0.01*M_sun\n",
    "    alpha = -1\n",
    "    beta = 1\n",
    "    delta = -3\n",
    "    b_halo = 500 #pc\n",
    "    m = r**2 + ((z**2)/(Q**2))\n",
    "    rho_val = (rho0*(m/b_halo)**alpha)*((1 + ((m/b_halo)**beta))**delta)\n",
    "    return(rho_val)"
   ]
  },
  {
   "cell_type": "code",
   "execution_count": 130,
   "metadata": {},
   "outputs": [],
   "source": [
    "def MC_int(Q,N):\n",
    "    int_sum = 0\n",
    "    for n in range(1,N):\n",
    "        r = -np.log(np.random.random())\n",
    "        z = -np.log(np.random.random())        \n",
    "        rho_val = rho(r,z,Q)\n",
    "        int_sum +=(np.exp(r)*np.exp(z)*r*rho_val)\n",
    "    return(2*np.pi*int_sum/N)"
   ]
  },
  {
   "cell_type": "code",
   "execution_count": 131,
   "metadata": {},
   "outputs": [
    {
     "data": {
      "text/plain": [
       "33.67701365945144"
      ]
     },
     "execution_count": 131,
     "metadata": {},
     "output_type": "execute_result"
    }
   ],
   "source": [
    "MC_int(0.1,100000)"
   ]
  },
  {
   "cell_type": "code",
   "execution_count": 135,
   "metadata": {},
   "outputs": [
    {
     "name": "stdout",
     "output_type": "stream",
     "text": [
      "[32.643025624841115, 43.379059142940996, 43.390899423276714, 47.81143913675671, 53.254682321435496, 59.85821694240037, 64.8562543458981, 69.09488484822748, 76.0263548048994, 80.96822607013003, 87.72849383806751, 99.46822320210028, 116.69364172608739, 119.38728720961458, 129.75662864018062, 189.96076459526003, 165.26098903595295, 178.9336157873441, 184.43019958996365, 234.0524638275416, 231.01960867307804, 234.8871768386675, 335.22170123598886, 292.8939351351617, 370.8839098600519, 307.69653945003193, 602.2541818584878, 387.59581016747927, 744.7975660298915, 475.911394807572, 509.9555564754666, 543.6575697075361, 637.4292416991681, 568.8065170482654, 563.0397665715659, 638.6894993436242, 1222.236423898308, 983.5070386562463, 772.2659329221578, 753.1623446798862, 773.1635139737518, 821.9558095701009, 848.3681438257174, 894.5502685402145, 1194.106246876293, 1063.2865563122698, 1207.4995757361553, 1229.2944251378249, 1220.9107086062925, 1363.4159852788698]\n"
     ]
    }
   ],
   "source": [
    "N = 1000000\n",
    "Q = np.logspace(-1,1,50)\n",
    "int_vals = []\n",
    "for q in Q:\n",
    "    int_vals.append(MC_int(q,N))\n",
    "    \n",
    "print(int_vals)"
   ]
  },
  {
   "cell_type": "code",
   "execution_count": 136,
   "metadata": {},
   "outputs": [
    {
     "data": {
      "text/plain": [
       "Text(0, 0.5, 'Halo Mass (Solar Masses)')"
      ]
     },
     "execution_count": 136,
     "metadata": {},
     "output_type": "execute_result"
    },
    {
     "data": {
      "image/png": "[encoded data removed]",
      "text/plain": [
       "<Figure size 432x288 with 1 Axes>"
      ]
     },
     "metadata": {
      "needs_background": "light"
     },
     "output_type": "display_data"
    }
   ],
   "source": [
    "plt.plot(Q,int_vals)\n",
    "plt.xscale('log')\n",
    "plt.xlabel('Q (z/r)')\n",
    "plt.ylabel('Halo Mass (Solar Masses)')"
   ]
  },
  {
   "cell_type": "code",
   "execution_count": null,
   "metadata": {},
   "outputs": [],
   "source": []
  }
 ],
 "metadata": {
  "kernelspec": {
   "display_name": "Python 3",
   "language": "python",
   "name": "python3"
  },
  "language_info": {
   "codemirror_mode": {
    "name": "ipython",
    "version": 3
   },
   "file_extension": ".py",
   "mimetype": "text/x-python",
   "name": "python",
   "nbconvert_exporter": "python",
   "pygments_lexer": "ipython3",
   "version": "3.7.4"
  }
 },
 "nbformat": 4,
 "nbformat_minor": 2
}
