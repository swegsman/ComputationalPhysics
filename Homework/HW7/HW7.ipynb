{
 "cells": [
  {
   "cell_type": "markdown",
   "metadata": {},
   "source": [
    "#### Computational Physics - Fall 2020\n",
    "#### Shalma Wegsman\n",
    "\n",
    "## Homework #7\n",
    "\n",
    "### Problem 1 - LU Solver\n",
    "(A)"
   ]
  },
  {
   "cell_type": "code",
   "execution_count": 166,
   "metadata": {},
   "outputs": [],
   "source": [
    "import numpy as np\n",
    "import matplotlib.pyplot as plt\n",
    "from scipy import linalg\n",
    "import scipy"
   ]
  },
  {
   "cell_type": "code",
   "execution_count": 367,
   "metadata": {},
   "outputs": [
    {
     "name": "stdout",
     "output_type": "stream",
     "text": [
      "A =  [[ -5   2   0  -2  -3]\n",
      " [-15   7   0 -11  -5]\n",
      " [  0   2   1 -11   9]\n",
      " [-10   6  -4  -6  -4]\n",
      " [-25   6  -3   5 -26]]\n"
     ]
    }
   ],
   "source": [
    "U = np.asarray([[-5,2,0,-2,-3],[0,1,0,-5,4],[0,0,1,-1,1],[0,0,0,4,-2],[0,0,0,0,4]])\n",
    "L = np.asarray([[1,0,0,0,0],[3,1,0,0,0],[0,2,1,0,0],[2,2,-4,1,0],[5,-4,-3,-2,1]])\n",
    "b= np.asarray([2,-3,-3,2,3],float)\n",
    "\n",
    "A = L.dot(U)\n",
    "print('A = ',A)"
   ]
  },
  {
   "cell_type": "code",
   "execution_count": 348,
   "metadata": {},
   "outputs": [
    {
     "name": "stdout",
     "output_type": "stream",
     "text": [
      "[-27.5   28.25  14.75  38.25  38.5 ]\n"
     ]
    }
   ],
   "source": [
    "x = linalg.solve(A, b)\n",
    "print(x)"
   ]
  },
  {
   "cell_type": "markdown",
   "metadata": {},
   "source": [
    "(B)"
   ]
  },
  {
   "cell_type": "code",
   "execution_count": 363,
   "metadata": {},
   "outputs": [],
   "source": [
    "def BackSub(M,b):\n",
    "    N = len(b)\n",
    "    x = np.zeros_like(b,float)\n",
    "    for i in range(N-1, -1, -1):\n",
    "        temp = b[i]/M[i,i]\n",
    "        for j in range(i+1, N):\n",
    "            temp -= M[i,j]*x[j]/ M[i,i]\n",
    "        x[i] = temp\n",
    "    return(x)\n",
    "\n",
    "def ForwardSub(M,b):\n",
    "    N = len(b)\n",
    "    x = np.zeros_like(b,float)\n",
    "    for i in range(N):\n",
    "        temp = b[i]/M[i,i]\n",
    "        for j in range(i):\n",
    "            temp -= M[i,j]*x[j]/M[i,i]\n",
    "        x[i] = temp\n",
    "    return(x)\n",
    "    \n",
    "    \n",
    "def LUSolver(L,U,b):\n",
    "    N = len(L)\n",
    "    y = ForwardSub(L,b)\n",
    "    x = BackSub(U,y)\n",
    "    return(x)"
   ]
  },
  {
   "cell_type": "code",
   "execution_count": 364,
   "metadata": {},
   "outputs": [
    {
     "data": {
      "text/plain": [
       "array([-27.5 ,  28.25,  14.75,  38.25,  38.5 ])"
      ]
     },
     "execution_count": 364,
     "metadata": {},
     "output_type": "execute_result"
    }
   ],
   "source": [
    "LUSolver(L,U,b)"
   ]
  },
  {
   "cell_type": "markdown",
   "metadata": {},
   "source": [
    "(C)"
   ]
  },
  {
   "cell_type": "code",
   "execution_count": 385,
   "metadata": {},
   "outputs": [],
   "source": [
    "def Invert(L,U):\n",
    "    N = len(L)\n",
    "    A_inv = np.zeros((N,N))\n",
    "    for i in range(N):\n",
    "        delta = np.zeros((N,1))\n",
    "        delta[i]= 1\n",
    "        xi = LUSolver(L,U,delta)\n",
    "        for j in range(N):\n",
    "            A_inv[j,i] = xi[j]\n",
    "    A_inv = np.asarray(A_inv)\n",
    "    \n",
    "    return(A_inv)"
   ]
  },
  {
   "cell_type": "code",
   "execution_count": 386,
   "metadata": {},
   "outputs": [
    {
     "data": {
      "text/plain": [
       "array([[-10.15 ,   4.1  ,  -2.25 ,  -0.3  ,  -0.35 ],\n",
       "       [ 10.625,  -3.25 ,   0.875,   0.5  ,  -0.375],\n",
       "       [  5.875,  -1.75 ,   0.625,   0.   ,  -0.125],\n",
       "       [ 14.125,  -5.25 ,   2.375,   0.5  ,   0.125],\n",
       "       [ 14.25 ,  -5.5  ,   2.75 ,   0.5  ,   0.25 ]])"
      ]
     },
     "execution_count": 386,
     "metadata": {},
     "output_type": "execute_result"
    }
   ],
   "source": [
    "Invert(L,U)"
   ]
  },
  {
   "cell_type": "code",
   "execution_count": 387,
   "metadata": {},
   "outputs": [
    {
     "data": {
      "text/plain": [
       "array([[-1.01500000e+01,  4.10000000e+00, -2.25000000e+00,\n",
       "        -3.00000000e-01, -3.50000000e-01],\n",
       "       [ 1.06250000e+01, -3.25000000e+00,  8.75000000e-01,\n",
       "         5.00000000e-01, -3.75000000e-01],\n",
       "       [ 5.87500000e+00, -1.75000000e+00,  6.25000000e-01,\n",
       "         7.24728919e-17, -1.25000000e-01],\n",
       "       [ 1.41250000e+01, -5.25000000e+00,  2.37500000e+00,\n",
       "         5.00000000e-01,  1.25000000e-01],\n",
       "       [ 1.42500000e+01, -5.50000000e+00,  2.75000000e+00,\n",
       "         5.00000000e-01,  2.50000000e-01]])"
      ]
     },
     "execution_count": 387,
     "metadata": {},
     "output_type": "execute_result"
    }
   ],
   "source": [
    "#Let's compare to the python result for the inverse:\n",
    "linalg.inv(A)"
   ]
  },
  {
   "cell_type": "markdown",
   "metadata": {},
   "source": [
    "They match!"
   ]
  },
  {
   "cell_type": "markdown",
   "metadata": {},
   "source": [
    "### Problem 2\n",
    "\n",
    "(A) Exercise 6.1\n",
    "\n",
    "For the junction at voltage V2:\n",
    "$$ \\frac{V_2 - V_1}{R} + \\frac{V_2 - V_4}{R} +\\frac{V_2 -0}{R} = 0$$\n",
    "\n",
    "$$ \\Rightarrow \\boxed{3 V_2 - V_1 - V_4 = 0} $$\n",
    "\n",
    "At V3:\n",
    "$$ \\frac{V_3-V_+}{R} +\\frac{V_3 - V_1}{R} +\\frac{V_3 -V_4}{R} = 0 $$\n",
    "\n",
    "$$ \\Rightarrow \\boxed{3 V_3 - V_1 - V_4 = V_+} $$\n",
    "\n",
    "And at V4:\n",
    "$$ \\frac{V_4-0}{R} +\\frac{V_4 - V_1}{R} +\\frac{V_4 -V_2}{R} +\\frac{V_4 -V_3}{R}= 0 $$\n",
    "\n",
    "$$ \\Rightarrow \\boxed{4 V_4 - V_1 - V_2 - V_3 = 0} $$\n",
    "\n",
    "In addition to the given equation:\n",
    "$$ \\boxed{4V_1 -V_2-V_3-V_4=V_+} $$\n",
    "\n",
    "we now have a system of four equations and 4 unknowns (since V_+ = 5 V is known):\n",
    "\n",
    "$$ \\begin{pmatrix} 4 & -1 &-1&-1 \\\\ -1&3&0&-1\\\\ -1&0&3&-1\\\\-1&-1&-1&4 \\end{pmatrix} \\begin{pmatrix}V_1\\\\V_2\\\\V_3\\\\V_4 \\end{pmatrix} = \\begin{pmatrix}5\\\\0\\\\5\\\\0 \\end{pmatrix}$$"
   ]
  },
  {
   "cell_type": "code",
   "execution_count": 227,
   "metadata": {},
   "outputs": [],
   "source": [
    "def GaussElim(A,b):\n",
    "    N = len(b)\n",
    "    for m in range(N):\n",
    "        div = A[m,m]\n",
    "        A[m,:] /= div\n",
    "        b[m] /= div\n",
    "        for i in range(m+1,N):\n",
    "            mult = A[i,m]\n",
    "            A[i,:] -= mult*A[m,:]\n",
    "            b[i] -=mult*b[m]\n",
    "    x = BackSub(A,b)\n",
    "    return(x)"
   ]
  },
  {
   "cell_type": "code",
   "execution_count": 60,
   "metadata": {},
   "outputs": [
    {
     "name": "stdout",
     "output_type": "stream",
     "text": [
      "[3.         1.66666667 3.33333333 2.        ]\n"
     ]
    }
   ],
   "source": [
    "A = np.asarray([[4,-1,-1,-1],[-1,3,0,-1],[-1,0,3,-1],[-1,-1,-1,4]],float)\n",
    "b = np.asarray([5,0,5,0],float)\n",
    "\n",
    "x = linalg.solve(A, b)\n",
    "print(x)"
   ]
  },
  {
   "cell_type": "code",
   "execution_count": 61,
   "metadata": {},
   "outputs": [
    {
     "data": {
      "text/plain": [
       "array([3.        , 1.66666667, 3.33333333, 2.        ])"
      ]
     },
     "execution_count": 61,
     "metadata": {},
     "output_type": "execute_result"
    }
   ],
   "source": [
    "GaussElim(A,b)"
   ]
  },
  {
   "cell_type": "markdown",
   "metadata": {},
   "source": [
    "(B) Exercise 6.7\n",
    "\n",
    "Since the current flow out of a junction must be zero, we see that at the V1 junction:\n",
    "$$ 3 V_1-V_2 -V_3 = V_+ $$\n",
    "\n",
    "The only other junciton adjacent to V+ is V2:\n",
    "$$ 4 V_2 - V_1 - V_3 - V_4 =V_+ $$\n",
    "\n",
    "There are two junctions adjacent to the end of the circuit, V_(N-1) and V_N, from which we get:\n",
    "$$ 4V_{N-1} - V_{N-2} - V_{N-3} - V_{N} = 0$$ \n",
    "\n",
    "And:\n",
    "$$ 3 V_N -V_{N-1} - V_{N-2} =0 $$\n",
    "\n",
    "At any other junction, V_i, charge would flow between it and the two adjacent junctions in either direction. So we have:\n",
    "$$ 4 V_i - V_{i-1} - V_{i-2} - V_{i+1}- V_{i+2} =0$$\n",
    "\n",
    "We can write this in matrix form as:"
   ]
  },
  {
   "cell_type": "code",
   "execution_count": 235,
   "metadata": {},
   "outputs": [],
   "source": [
    "def Find_A(N): #N = number of junctions\n",
    "    if N<4:\n",
    "        return('Error: need at least 4 junctions')\n",
    "    A = []\n",
    "    A.append(np.asarray([3,-1,-1]+[0]*(N-3),float))\n",
    "    A.append(np.asarray([-1,4,-1,-1]+[0]*(N-4),float))\n",
    "    for i in range(2, N-2):\n",
    "        x = np.zeros(N)\n",
    "        x[i]=4\n",
    "        x[i-1]=-1\n",
    "        x[i-2]=-1\n",
    "        x[i+1]=-1\n",
    "        x[i+2]=-1\n",
    "        A.append(x)\n",
    "    A.append(np.asarray([0]*(N-4)+[-1,-1,4,-1],float))\n",
    "    A.append(np.asarray([0]*(N-3)+[-1,-1,3],float))\n",
    "    return(np.asarray(A))"
   ]
  },
  {
   "cell_type": "code",
   "execution_count": 245,
   "metadata": {},
   "outputs": [
    {
     "data": {
      "text/plain": [
       "array([[ 3., -1., -1.,  0.,  0.,  0.],\n",
       "       [-1.,  4., -1., -1.,  0.,  0.],\n",
       "       [-1., -1.,  4., -1., -1.,  0.],\n",
       "       [ 0., -1., -1.,  4., -1., -1.],\n",
       "       [ 0.,  0., -1., -1.,  4., -1.],\n",
       "       [ 0.,  0.,  0., -1., -1.,  3.]])"
      ]
     },
     "execution_count": 245,
     "metadata": {},
     "output_type": "execute_result"
    }
   ],
   "source": [
    "Find_A(6)"
   ]
  },
  {
   "cell_type": "markdown",
   "metadata": {},
   "source": [
    "So as a matrix equation we have \n",
    "$$ A \\begin{pmatrix}V_1 \\\\ V_2 \\\\ ... \\\\ V_{N-1} \\\\ V_{N} \\end{pmatrix}  = \\begin{pmatrix} 5 \\\\5 \\\\0\\\\...\\\\0 \\end{pmatrix}$$\n",
    "\n",
    "with A as found in the code"
   ]
  },
  {
   "cell_type": "code",
   "execution_count": 232,
   "metadata": {},
   "outputs": [
    {
     "name": "stdout",
     "output_type": "stream",
     "text": [
      "[3.7254902  3.43137255 2.74509804 2.25490196 1.56862745 1.2745098 ]\n"
     ]
    }
   ],
   "source": [
    "N=6\n",
    "b = np.asarray([5,5]+[0]*(N-2),float)\n",
    "\n",
    "A = Find_A(6)\n",
    "\n",
    "\n",
    "v = GaussElim(A,b)\n",
    "print(v)"
   ]
  },
  {
   "cell_type": "markdown",
   "metadata": {},
   "source": [
    "(C)"
   ]
  },
  {
   "cell_type": "code",
   "execution_count": 268,
   "metadata": {},
   "outputs": [
    {
     "name": "stdout",
     "output_type": "stream",
     "text": [
      "[[ 0.  0. -1. ... -1. -1. -1.]\n",
      " [ 0. -1. -1. ... -1. -1. -1.]\n",
      " [ 3.  4.  4. ...  4.  4.  3.]\n",
      " [-1. -1. -1. ... -1. -1.  0.]\n",
      " [-1. -1. -1. ... -1.  0.  0.]]\n"
     ]
    }
   ],
   "source": [
    "#we turn A into a 5x5 banded matrix\n",
    "N = 10000\n",
    "b = np.asarray([5,5]+[0]*(N-2),float)\n",
    "\n",
    "l=2\n",
    "u=2\n",
    "\n",
    "Ab = np.zeros((5,N))\n",
    "for i in range(2,N):\n",
    "    Ab[0,i] = -1\n",
    "for j in range(1,N):\n",
    "    Ab[1,j] = -1\n",
    "Ab[2,0] = 3\n",
    "Ab[2,N-1] = 3\n",
    "for k in range(1,N-1):\n",
    "    Ab[2,k] = 4\n",
    "for i in range(N-1):\n",
    "    Ab[3,i] = -1\n",
    "for j in range(N-2):\n",
    "    Ab[4,j] = -1\n",
    "    \n",
    "print(Ab)"
   ]
  },
  {
   "cell_type": "code",
   "execution_count": 271,
   "metadata": {},
   "outputs": [
    {
     "name": "stdout",
     "output_type": "stream",
     "text": [
      "[4.99888228e+00 4.99861842e+00 4.99802841e+00 ... 1.97158611e-03\n",
      " 1.38158071e-03 1.11772227e-03]\n"
     ]
    }
   ],
   "source": [
    "print(linalg.solve_banded((2, 2),Ab,b))"
   ]
  },
  {
   "cell_type": "markdown",
   "metadata": {},
   "source": [
    "### Problem 3 - Least Squares Fit\n",
    "\n",
    "(A)"
   ]
  },
  {
   "cell_type": "code",
   "execution_count": 288,
   "metadata": {},
   "outputs": [],
   "source": [
    "def P(x):\n",
    "    a = [9,8,7,6,5,4,3,2,1]\n",
    "    P = [a[i]*(x**i) for i in range(len(a))]\n",
    "    return(np.sum(P))"
   ]
  },
  {
   "cell_type": "code",
   "execution_count": 289,
   "metadata": {},
   "outputs": [
    {
     "data": {
      "text/plain": [
       "45"
      ]
     },
     "execution_count": 289,
     "metadata": {},
     "output_type": "execute_result"
    }
   ],
   "source": [
    "P(1)"
   ]
  },
  {
   "cell_type": "code",
   "execution_count": 290,
   "metadata": {
    "scrolled": true
   },
   "outputs": [
    {
     "data": {
      "text/plain": [
       "Text(0, 0.5, 'P(x) + Gaussian noise')"
      ]
     },
     "execution_count": 290,
     "metadata": {},
     "output_type": "execute_result"
    },
    {
     "data": {
      "image/png": "[encoded data removed]",
      "text/plain": [
       "<Figure size 432x288 with 1 Axes>"
      ]
     },
     "metadata": {
      "needs_background": "light"
     },
     "output_type": "display_data"
    }
   ],
   "source": [
    "x = np.random.random(20)\n",
    "y = [P(i) for i in x]\n",
    "\n",
    "sigma = 1\n",
    "r = np.random.random(20)\n",
    "r_gauss = (1/(sigma*np.sqrt(2*np.pi)))*np.exp(-(r/sigma)**2)\n",
    "\n",
    "y_noisy = [y[i] + r_gauss[i] for i in range(20)]\n",
    "\n",
    "plt.scatter(x,y_noisy)\n",
    "plt.xlabel('x')\n",
    "plt.ylabel('P(x) + Gaussian noise')"
   ]
  },
  {
   "cell_type": "markdown",
   "metadata": {},
   "source": [
    "(B)"
   ]
  },
  {
   "cell_type": "code",
   "execution_count": 330,
   "metadata": {},
   "outputs": [
    {
     "name": "stdout",
     "output_type": "stream",
     "text": [
      "(20, 9)\n",
      "[[1.00000000e+00 8.63065407e-01 7.44881896e-01 6.42881797e-01\n",
      "  5.54849039e-01 4.78871012e-01 4.13297005e-01 3.56702347e-01\n",
      "  3.07857456e-01]\n",
      " [1.00000000e+00 8.00557080e-01 6.40891638e-01 5.13070338e-01\n",
      "  4.10742092e-01 3.28822489e-01 2.63241172e-01 2.10739584e-01\n",
      "  1.68709066e-01]\n",
      " [1.00000000e+00 5.87005089e-01 3.44574975e-01 2.02267264e-01\n",
      "  1.18731913e-01 6.96962373e-02 4.09120460e-02 2.40155792e-02\n",
      "  1.40972672e-02]\n",
      " [1.00000000e+00 6.73926162e-01 4.54176471e-01 3.06081406e-01\n",
      "  2.06276267e-01 1.39014973e-01 9.36858270e-02 6.31373298e-02\n",
      "  4.25498983e-02]\n",
      " [1.00000000e+00 6.06341772e-01 3.67650344e-01 2.22921761e-01\n",
      "  1.35166775e-01 8.19572621e-02 4.96941115e-02 3.01316156e-02\n",
      "  1.82700572e-02]\n",
      " [1.00000000e+00 7.65590115e-01 5.86128224e-01 4.48733975e-01\n",
      "  3.43546295e-01 2.63015648e-01 2.01362180e-01 1.54160895e-01\n",
      "  1.18024057e-01]\n",
      " [1.00000000e+00 8.50079637e-01 7.22635389e-01 6.14297629e-01\n",
      "  5.22201905e-01 4.43913206e-01 3.77361577e-01 3.20787392e-01\n",
      "  2.72694830e-01]\n",
      " [1.00000000e+00 7.42227743e-01 5.50902022e-01 4.08894764e-01\n",
      "  3.03493038e-01 2.25260952e-01 1.67194928e-01 1.24096714e-01\n",
      "  9.21080240e-02]\n",
      " [1.00000000e+00 2.36232157e-02 5.58056322e-04 1.31830849e-05\n",
      "  3.11426858e-07 7.35690386e-09 1.73793727e-10 4.10556670e-12\n",
      "  9.69866880e-14]\n",
      " [1.00000000e+00 2.53754227e-01 6.43912077e-02 1.63395412e-02\n",
      "  4.14622764e-03 1.05212279e-03 2.66980605e-04 6.77474571e-05\n",
      "  1.71912036e-05]\n",
      " [1.00000000e+00 2.22130318e-01 4.93418781e-02 1.09603271e-02\n",
      "  2.43462093e-03 5.40803122e-04 1.20128769e-04 2.66842417e-05\n",
      "  5.92737909e-06]\n",
      " [1.00000000e+00 2.07648936e-01 4.31180806e-02 8.95342356e-03\n",
      "  1.85916888e-03 3.86054439e-04 8.01637935e-05 1.66459264e-05\n",
      "  3.45650891e-06]\n",
      " [1.00000000e+00 8.41752947e-01 7.08548024e-01 5.96422387e-01\n",
      "  5.02040302e-01 4.22593904e-01 3.55719664e-01 2.99428075e-01\n",
      "  2.52044465e-01]\n",
      " [1.00000000e+00 3.67969064e-02 1.35401232e-03 4.98234647e-05\n",
      "  1.83334937e-06 6.74615850e-08 2.48237763e-09 9.13438173e-11\n",
      "  3.36116990e-12]\n",
      " [1.00000000e+00 5.93721751e-01 3.52505518e-01 2.09290194e-01\n",
      "  1.24260140e-01 7.37759481e-02 4.38023851e-02 2.60064288e-02\n",
      "  1.54405825e-02]\n",
      " [1.00000000e+00 5.47956538e-01 3.00256367e-01 1.64527439e-01\n",
      "  9.01538861e-02 4.94004113e-02 2.70692783e-02 1.48327880e-02\n",
      "  8.12772318e-03]\n",
      " [1.00000000e+00 4.82696560e-02 2.32995969e-03 1.12466353e-04\n",
      "  5.42871215e-06 2.62042068e-07 1.26486805e-08 6.10547454e-10\n",
      "  2.94709156e-11]\n",
      " [1.00000000e+00 3.37807587e-01 1.14113966e-01 3.85485634e-02\n",
      "  1.30219972e-02 4.39892944e-03 1.48599174e-03 5.01979284e-04\n",
      "  1.69572410e-04]\n",
      " [1.00000000e+00 7.22598911e-01 5.22149186e-01 3.77304433e-01\n",
      "  2.72639773e-01 1.97009203e-01 1.42358635e-01 1.02868195e-01\n",
      "  7.43324456e-02]\n",
      " [1.00000000e+00 6.72411061e-01 4.52136635e-01 3.04021675e-01\n",
      "  2.04427537e-01 1.37459337e-01 9.24291786e-02 6.21504021e-02\n",
      "  4.17906178e-02]]\n"
     ]
    }
   ],
   "source": [
    "#A will be equal to x_i^j\n",
    "\n",
    "A = []\n",
    "\n",
    "for j in range(9):\n",
    "    new_list = [x[i]**j for i in range(len(x))]\n",
    "    A.append(new_list)\n",
    "A_array = np.asarray(A,float).T\n",
    "print(np.shape(A_array))\n",
    "\n",
    "print(A_array)"
   ]
  },
  {
   "cell_type": "markdown",
   "metadata": {},
   "source": [
    "(C)"
   ]
  },
  {
   "cell_type": "code",
   "execution_count": 332,
   "metadata": {},
   "outputs": [
    {
     "name": "stdout",
     "output_type": "stream",
     "text": [
      "[ 9.55674011e+00 -5.30289494e+00  2.58805295e+02 -2.16855108e+03\n",
      "  9.74611304e+03 -2.40854009e+04  3.31425946e+04 -2.37402497e+04\n",
      "  6.90326608e+03]\n"
     ]
    }
   ],
   "source": [
    "U,W,VT = np.linalg.svd(A_array,full_matrices=False)\n",
    "\n",
    "W_inv_vals =[]\n",
    "for s in W: #creating the W tilda \"almost inverse\"\n",
    "    if s == 0:\n",
    "        W_inv_vals.append(0)\n",
    "    else:\n",
    "        W_inv_vals.append(1/s)\n",
    "\n",
    "W_inv = np.zeros((len(W),len(W)))\n",
    "for i in range(len(W)):\n",
    "    W_inv[i,i] = W_inv_vals[i]\n",
    "\n",
    "V = np.matrix.transpose(VT)\n",
    "UT = np.matrix.transpose(U)\n",
    "y = np.asarray(y_noisy)\n",
    "x = np.dot(V,np.dot(W_inv,np.dot(UT,y_noisy)))\n",
    "print(x)"
   ]
  },
  {
   "cell_type": "markdown",
   "metadata": {},
   "source": [
    "(D)"
   ]
  },
  {
   "cell_type": "code",
   "execution_count": 334,
   "metadata": {},
   "outputs": [
    {
     "data": {
      "text/plain": [
       "array([ 9.55675466e+00, -5.30383262e+00,  2.58824582e+02, -2.16871398e+03,\n",
       "        9.74680517e+03, -2.40870152e+04,  3.31446950e+04, -2.37416821e+04,\n",
       "        6.90366490e+03])"
      ]
     },
     "execution_count": 334,
     "metadata": {},
     "output_type": "execute_result"
    }
   ],
   "source": [
    "AT = A_array.T\n",
    "\n",
    "AA = AT.dot(A_array)\n",
    "np.shape(AA)\n",
    "np.dot(linalg.inv(AA),np.dot(AT,y))"
   ]
  },
  {
   "cell_type": "markdown",
   "metadata": {},
   "source": [
    "Our answer almost exactly matches that from part (C), with slight low order variations"
   ]
  },
  {
   "cell_type": "code",
   "execution_count": null,
   "metadata": {},
   "outputs": [],
   "source": []
  },
  {
   "cell_type": "code",
   "execution_count": null,
   "metadata": {},
   "outputs": [],
   "source": []
  }
 ],
 "metadata": {
  "kernelspec": {
   "display_name": "Python 3",
   "language": "python",
   "name": "python3"
  },
  "language_info": {
   "codemirror_mode": {
    "name": "ipython",
    "version": 3
   },
   "file_extension": ".py",
   "mimetype": "text/x-python",
   "name": "python",
   "nbconvert_exporter": "python",
   "pygments_lexer": "ipython3",
   "version": "3.7.4"
  }
 },
 "nbformat": 4,
 "nbformat_minor": 2
}
