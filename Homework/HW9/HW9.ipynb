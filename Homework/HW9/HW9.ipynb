{
 "cells": [
  {
   "cell_type": "markdown",
   "metadata": {},
   "source": [
    "#### Computational Physics - Fall 2020\n",
    "#### Shalma Wegsman\n",
    "\n",
    "## Homework #9\n",
    "\n",
    "### Problem 1 - Particle in a Box"
   ]
  },
  {
   "cell_type": "code",
   "execution_count": 97,
   "metadata": {},
   "outputs": [],
   "source": [
    "import numpy as np\n",
    "import matplotlib.pyplot as plt\n",
    "import scipy.optimize"
   ]
  },
  {
   "cell_type": "code",
   "execution_count": 98,
   "metadata": {},
   "outputs": [],
   "source": [
    "def SqWell(z):\n",
    "    V0 = 10e-3/6.242e18 #J\n",
    "    a = 1e-10 #m\n",
    "    hbar = 1.054571817e-34 #m2 kg / s\n",
    "    #c = 3e8\n",
    "    m = 1.6726219e-27 #kg, proton mass\n",
    "    z0 = (a/hbar) * np.sqrt(2*m*V0)\n",
    "    return(np.tan(z)-np.sqrt((z0/z)**2-1))"
   ]
  },
  {
   "cell_type": "markdown",
   "metadata": {},
   "source": [
    "Note that in order for this function to evaluate to a real number, we need $(z_0 /z)^2 > 1 \\Rightarrow z_0>z$"
   ]
  },
  {
   "cell_type": "code",
   "execution_count": 92,
   "metadata": {},
   "outputs": [
    {
     "name": "stdout",
     "output_type": "stream",
     "text": [
      "2.195208846796837\n"
     ]
    },
    {
     "name": "stderr",
     "output_type": "stream",
     "text": [
      "C:\\Users\\shalm\\Anaconda3\\lib\\site-packages\\ipykernel_launcher.py:8: RuntimeWarning: divide by zero encountered in true_divide\n",
      "  \n"
     ]
    },
    {
     "data": {
      "text/plain": [
       "[<matplotlib.lines.Line2D at 0x2917c47e588>]"
      ]
     },
     "execution_count": 92,
     "metadata": {},
     "output_type": "execute_result"
    },
    {
     "data": {
      "image/png": "[encoded data removed]",
      "text/plain": [
       "<Figure size 432x288 with 1 Axes>"
      ]
     },
     "metadata": {
      "needs_background": "light"
     },
     "output_type": "display_data"
    }
   ],
   "source": [
    "#V0 = 10e-3 #eV\n",
    "#a = 1e-10 #m\n",
    "#hbar = 4.135667696e-15 #eV s\n",
    "#c = 3e8\n",
    "#m = 938.27e6 #eV/c^2, proton mass\n",
    "\n",
    "V0 = 10e-3/6.242e18 #J\n",
    "a = 1e-10 #m\n",
    "hbar =1.054571817e-34 #m2 kg / s\n",
    "#c = 3e8\n",
    "m = 1.6726219e-27 #kg, proton mass\n",
    "\n",
    "z0 = (a/hbar) * np.sqrt(2*m*V0)\n",
    "print(z0)\n",
    "x = np.linspace(0, z0)\n",
    "y = SqWell(x)\n",
    "plt.plot(x,y)\n",
    "yy = [0]*len(x)\n",
    "plt.plot(x,yy)"
   ]
  },
  {
   "cell_type": "code",
   "execution_count": 117,
   "metadata": {},
   "outputs": [],
   "source": [
    "#To find roots:\n",
    "def RootFinder(f,xmin,xmax):\n",
    "    roots = []\n",
    "    x = np.linspace(xmin,xmax,100)\n",
    "    for i in range(len(x)-1):\n",
    "        a = x[i]\n",
    "        b = x[i+1]\n",
    "        f_a = f(a)\n",
    "        f_b = f(b)\n",
    "        if f_a*f_b<0:\n",
    "            root = scipy.optimize.root_scalar(SqWell,method='bisect', bracket=(a,b))\n",
    "            roots.append(root)\n",
    "    return(roots)"
   ]
  },
  {
   "cell_type": "code",
   "execution_count": 118,
   "metadata": {},
   "outputs": [
    {
     "name": "stderr",
     "output_type": "stream",
     "text": [
      "C:\\Users\\shalm\\Anaconda3\\lib\\site-packages\\ipykernel_launcher.py:8: RuntimeWarning: divide by zero encountered in double_scalars\n",
      "  \n"
     ]
    },
    {
     "data": {
      "text/plain": [
       "[      converged: True\n",
       "            flag: 'converged'\n",
       "  function_calls: 36\n",
       "      iterations: 34\n",
       "            root: 1.0645164294711158,       converged: True\n",
       "            flag: 'converged'\n",
       "  function_calls: 36\n",
       "      iterations: 34\n",
       "            root: 1.5707963267946201]"
      ]
     },
     "execution_count": 118,
     "metadata": {},
     "output_type": "execute_result"
    }
   ],
   "source": [
    "RootFinder(SqWell,0,z0)"
   ]
  },
  {
   "cell_type": "markdown",
   "metadata": {},
   "source": [
    "So our two roots are $z_1=1.0645$ and $z_2=1.5708$. These correspond to energies given by:\n",
    "\n",
    "$$ E = \\frac{1}{2 m} \\bigg( \\frac{\\hbar z}{a} \\bigg)^2 - V_0 $$\n"
   ]
  },
  {
   "cell_type": "code",
   "execution_count": 121,
   "metadata": {},
   "outputs": [
    {
     "name": "stdout",
     "output_type": "stream",
     "text": [
      "E1 =  -0.007648528913671197  eV\n",
      "E2 =  -0.00487976260992016  eV\n"
     ]
    }
   ],
   "source": [
    "def E(z):\n",
    "    V0 = 10e-3/6.242e18 #J\n",
    "    a = 1e-10 #m\n",
    "    hbar =1.054571817e-34 #m2 kg / s\n",
    "    m = 1.6726219e-27 #kg, proton mass\n",
    "    return((hbar*z/a)**2 /(2*m) - V0)\n",
    "\n",
    "z1 = 1.0645\n",
    "z2 = 1.5708\n",
    "\n",
    "print('E1 = ',E(z1)*6.242e18,' eV') #converting to eV\n",
    "print('E2 = ',E(z2)*6.242e18,' eV')"
   ]
  },
  {
   "cell_type": "markdown",
   "metadata": {},
   "source": [
    "### Problem 2 - Lagrange Point\n",
    "\n",
    "Exercise 6.16\n",
    "\n",
    "(A)\n",
    "\n",
    "At the Lagrange point, the sum of the forces on the satellite from the Earth and moon (F_Es and F_Ms) should equal F = ma for the satellite.\n",
    "\n",
    "$$ F_E + F_M = m_{s} a_s $$\n",
    "$$ \\frac{G M m_s}{r^2} - \\frac{G m m_s}{(R-r)^2} = m_s \\frac{v_s^2}{r}$$\n",
    "\n",
    "Dividing by the mass of the satellite and setting $v_s = \\omega r$, we get:\n",
    "\n",
    "$$ \\boxed{\\frac{GM}{r^2} - \\frac{G m}{(R-r)^2} = \\omega^2 r}$$\n",
    "\n",
    "(B)"
   ]
  },
  {
   "cell_type": "code",
   "execution_count": 67,
   "metadata": {},
   "outputs": [],
   "source": [
    "def f(r):\n",
    "    G = 6.674e-11\n",
    "    M = 5.974e24\n",
    "    m = 7.348e22\n",
    "    R = 3.844e8\n",
    "    omega = 2.662e-6\n",
    "    return((G*M/r**2)-(G*m/(R-r)**2)-omega**2*r)\n",
    "\n",
    "def fp(r):\n",
    "    G = 6.674e-11\n",
    "    M = 5.974e24\n",
    "    m = 7.348e22\n",
    "    R = 3.844e8\n",
    "    omega = 2.662e-6\n",
    "    ff = -2*G*M*r**(-3) - 2*G*m*(R-r)**(-3) - omega**2\n",
    "    return(ff)\n",
    "\n",
    "def fpp(r):\n",
    "    G = 6.674e-11\n",
    "    M = 5.974e24\n",
    "    m = 7.348e22\n",
    "    R = 3.844e8\n",
    "    omega = 2.662e-6\n",
    "    ff = 6*G*M/r**4 - 6*G*m/(R-r)**4\n",
    "    return(ff)"
   ]
  },
  {
   "cell_type": "code",
   "execution_count": 68,
   "metadata": {},
   "outputs": [
    {
     "data": {
      "text/plain": [
       "Text(0.5, 0, 'x')"
      ]
     },
     "execution_count": 68,
     "metadata": {},
     "output_type": "execute_result"
    },
    {
     "data": {
      "image/png": "[encoded data removed]",
      "text/plain": [
       "<Figure size 432x288 with 1 Axes>"
      ]
     },
     "metadata": {
      "needs_background": "light"
     },
     "output_type": "display_data"
    }
   ],
   "source": [
    "#Let's plot f(x) so we can choose a good guess\n",
    "\n",
    "R = 3.844e8\n",
    "x = np.linspace(1e8,5e8,1000)\n",
    "y = f(x)\n",
    "yy = [0]*1000\n",
    "plt.plot(x,y)\n",
    "plt.plot(x,yy)\n",
    "#plt.yscale('log')\n",
    "plt.ylim(-0.1,0.05)\n",
    "plt.ylabel('f(x)')\n",
    "plt.xlabel('x')"
   ]
  },
  {
   "cell_type": "code",
   "execution_count": 75,
   "metadata": {},
   "outputs": [],
   "source": [
    "def Newton(f,r0, tol):\n",
    "    eps = f(r0)\n",
    "    r = r0\n",
    "    while eps > tol:\n",
    "        f_r = f(r)\n",
    "        fp_r = fp(r)\n",
    "        newr = r - (f_r/fp_r)\n",
    "        #eps = np.abs((eps**2 *fpp(newr))/(2*f(newr))) #this error formula matches the one from the class notes\n",
    "        eps = np.abs(f_r/fp_r) #this one is just the difference between r and newr\n",
    "        r = newr\n",
    "    return(r)"
   ]
  },
  {
   "cell_type": "code",
   "execution_count": 76,
   "metadata": {},
   "outputs": [
    {
     "name": "stdout",
     "output_type": "stream",
     "text": [
      "L1 =  326045071.66535544  m\n"
     ]
    }
   ],
   "source": [
    "print('L1 = ',Newton(f,3e8,1e-6),' m')"
   ]
  },
  {
   "cell_type": "markdown",
   "metadata": {},
   "source": [
    "This is pretty close to the real value, 326400 km.\n",
    "\n",
    "### Problem 3 - Temperature of a Blackbody\n",
    "\n",
    "Exercise 6.18\n",
    "\n",
    "(A)"
   ]
  },
  {
   "cell_type": "code",
   "execution_count": 133,
   "metadata": {},
   "outputs": [],
   "source": [
    "#using my trapezoid integral codes from HW4:\n",
    "def trap_integral(f,a,b,N):\n",
    "    x = np.linspace(a,b,N)\n",
    "    h = (b-a)/np.float64(N)\n",
    "    trap_int =[]\n",
    "    trap = f(a)*h/2 + f(b)*h/2\n",
    "    trap_int.append(trap)\n",
    "    for i in x:\n",
    "        new = f(i)*h\n",
    "        trap+=new\n",
    "        trap_int.append(trap)\n",
    "    return(trap, trap_int)\n",
    "\n",
    "def trap_int_tol(f,a,b,tol):\n",
    "    trap1 = trap_integral(f,a,b,1)[0]\n",
    "    trap2 = trap_integral(f,a,b,2)[0]\n",
    "    n = 2\n",
    "    h=(b-a)/np.float64(n)\n",
    "    err_slice = (trap2-trap1)/3\n",
    "    while np.abs(err_slice) > tol:\n",
    "        n*=2\n",
    "        h=(b-a)/np.float64(n)\n",
    "        trap1 = trap_integral(f,a,b,n-1)[0]\n",
    "        trap2 = trap_integral(f,a,b,n)[0]\n",
    "        err_slice = (trap2-trap1)/3\n",
    "        #print(\"N= \",n,\", Integral= \",trap2,\", Error= \",err_slice)\n",
    "    return(trap2)"
   ]
  },
  {
   "cell_type": "code",
   "execution_count": 134,
   "metadata": {},
   "outputs": [],
   "source": [
    "def Fnc_to_int(x):\n",
    "    func = x**3/(np.exp(x)-1)\n",
    "    return(func)"
   ]
  },
  {
   "cell_type": "code",
   "execution_count": 137,
   "metadata": {},
   "outputs": [],
   "source": [
    "def Eta(T):\n",
    "    kB = 1.38064852e-23\n",
    "    c = 3e8\n",
    "    h = 6.62607004e-34\n",
    "    lam1 = 390e-9\n",
    "    lam2 = 750e-9\n",
    "    upper = h*c/(lam2*kB*T)\n",
    "    lower = h*c/(lam1*kB*T)\n",
    "    Int = trap_int_tol(Fnc_to_int,upper,lower,1e-6)\n",
    "    return(15*Int / np.pi**4)"
   ]
  },
  {
   "cell_type": "code",
   "execution_count": 141,
   "metadata": {},
   "outputs": [
    {
     "data": {
      "text/plain": [
       "Text(0, 0.5, '$Eta (T)$')"
      ]
     },
     "execution_count": 141,
     "metadata": {},
     "output_type": "execute_result"
    },
    {
     "data": {
      "image/png": "[encoded data removed]",
      "text/plain": [
       "<Figure size 432x288 with 1 Axes>"
      ]
     },
     "metadata": {
      "needs_background": "light"
     },
     "output_type": "display_data"
    }
   ],
   "source": [
    "T_list = np.linspace(300,10000)\n",
    "Eta_list = [Eta(t) for t in T_list]\n",
    "\n",
    "plt.plot(T_list,Eta_list)\n",
    "plt.xlabel('Temperature (K)')\n",
    "plt.ylabel('$Eta (T)$')"
   ]
  },
  {
   "cell_type": "markdown",
   "metadata": {},
   "source": [
    "(B)"
   ]
  },
  {
   "cell_type": "code",
   "execution_count": 143,
   "metadata": {},
   "outputs": [],
   "source": [
    "def Golden(f,a,c,tol=1e-5):\n",
    "    w=(3.-np.sqrt(5.))/2\n",
    "    b = (c-a)*w + a\n",
    "    f_c = f(c)\n",
    "    f_b = f(b)\n",
    "    f_a = f(a)\n",
    "    n = 0\n",
    "    while(c-b > tol and b-a > tol):\n",
    "        x = b + w*(c-b)\n",
    "        f_x = f(x)\n",
    "        if f_x<f_b:\n",
    "            a = b\n",
    "            b = x\n",
    "            f_a = f_b\n",
    "            f_b = f_x\n",
    "        else:\n",
    "            c = x\n",
    "            f_c = f_x\n",
    "        n+=1\n",
    "        x = b + w*(b-a)\n",
    "        f_x = f(x)\n",
    "        if f_x < f_b:\n",
    "            c = b\n",
    "            f_c = f_b\n",
    "            b = x\n",
    "            f_b = f_x\n",
    "        else:\n",
    "            a = x\n",
    "            f_a = f_x\n",
    "        n+=1\n",
    "    return(b,n)\n",
    "\n",
    "def find_max(f,xstart,delta,num,tol,rev):\n",
    "    a=xstart\n",
    "    b=a+delta\n",
    "    c=b+delta\n",
    "    f_a=f(a)\n",
    "    f_b=f(b)\n",
    "    f_c=f(c)\n",
    "    x=np.zeros(num)\n",
    "    n=np.zeros(num,dtype='int')\n",
    "    for i in np.arange(num):\n",
    "        go=1\n",
    "        while go:\n",
    "            if((f_a>f_b)+(f_c>f_b)):\n",
    "                a=b\n",
    "                f_a=f_b\n",
    "                b=c\n",
    "                f_b=f_c\n",
    "                c=b+delta\n",
    "                f_c=f(c)\n",
    "            else:\n",
    "                go=0\n",
    "                x[i],n[i]=Golden(f,a,c,tol)\n",
    "                a=c\n",
    "                f_a=f_c\n",
    "                b=a+delta\n",
    "                c=b+delta\n",
    "                f_b=f(b)\n",
    "                f_c=f(c)\n",
    "    return(x,n)"
   ]
  },
  {
   "cell_type": "code",
   "execution_count": 156,
   "metadata": {},
   "outputs": [],
   "source": [
    "def negEta(T):\n",
    "    kB = 1.38064852e-23\n",
    "    c = 299792458\n",
    "    h = 6.62607004e-34\n",
    "    lam1 = 390e-9\n",
    "    lam2 = 750e-9\n",
    "    upper = h*c/(lam2*kB*T)\n",
    "    lower = h*c/(lam1*kB*T)\n",
    "    Int = trap_int_tol(Fnc_to_int,upper,lower,1e-6)\n",
    "    return(-15*Int / np.pi**4)\n",
    "\n",
    "Tpeak,num=find_max(Eta,5000,1,1,1,negEta)"
   ]
  },
  {
   "cell_type": "code",
   "execution_count": 157,
   "metadata": {},
   "outputs": [
    {
     "name": "stdout",
     "output_type": "stream",
     "text": [
      "[6931.76393202]\n"
     ]
    }
   ],
   "source": [
    "print(Tpeak)"
   ]
  },
  {
   "cell_type": "markdown",
   "metadata": {},
   "source": [
    "(C)\n",
    "\n",
    "This isn't practical, since tungsten would melt at that temperature (it has melting point 3,695 K)."
   ]
  },
  {
   "cell_type": "code",
   "execution_count": null,
   "metadata": {},
   "outputs": [],
   "source": []
  }
 ],
 "metadata": {
  "kernelspec": {
   "display_name": "Python 3",
   "language": "python",
   "name": "python3"
  },
  "language_info": {
   "codemirror_mode": {
    "name": "ipython",
    "version": 3
   },
   "file_extension": ".py",
   "mimetype": "text/x-python",
   "name": "python",
   "nbconvert_exporter": "python",
   "pygments_lexer": "ipython3",
   "version": "3.7.4"
  }
 },
 "nbformat": 4,
 "nbformat_minor": 2
}
