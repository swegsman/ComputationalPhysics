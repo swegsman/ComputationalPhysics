{
 "cells": [
  {
   "cell_type": "markdown",
   "metadata": {},
   "source": [
    "### Shalma Wegsman\n",
    "### Computational Physics - Fall 2020\n",
    "# Homework #1\n",
    "\n",
    "### 1 - Kepler's Third Law"
   ]
  },
  {
   "cell_type": "code",
   "execution_count": 2,
   "metadata": {},
   "outputs": [],
   "source": [
    "import numpy as np"
   ]
  },
  {
   "cell_type": "code",
   "execution_count": 6,
   "metadata": {},
   "outputs": [],
   "source": [
    "def OrbitalPeriod(M,r):\n",
    "    G = 6.673*10**(-11) #m3⋅kg–1⋅s–2\n",
    "    T = np.sqrt((4*np.pi**2 / (G*M))* r**3)\n",
    "    return T"
   ]
  },
  {
   "cell_type": "markdown",
   "metadata": {},
   "source": [
    "Let's find the orbital period for these three planets:\n",
    "\n",
    "Earth:\n",
    "r = 1.50×10^11 m\n",
    "\n",
    "Venus:\n",
    "r = 1.08 x 10^11 m\n",
    "\n",
    "Jupiter:\n",
    "r = 7.786 x 10^11 m\n",
    "\n",
    "(source: https://nssdc.gsfc.nasa.gov/planetary/factsheet/)"
   ]
  },
  {
   "cell_type": "code",
   "execution_count": 8,
   "metadata": {},
   "outputs": [
    {
     "name": "stdout",
     "output_type": "stream",
     "text": [
      "Earth: 366.7119482941505  days\n",
      "Venus: 224.03909264911863  days\n",
      "Jupiter: 4336.7039041475045  days\n"
     ]
    }
   ],
   "source": [
    "SolarMass = 1.989e30\n",
    "EarthPeriod = OrbitalPeriod(SolarMass,1.5e11)\n",
    "VenusPeriod = OrbitalPeriod(SolarMass,1.08e11)\n",
    "JupiterPeriod = OrbitalPeriod(SolarMass,7.786e11)\n",
    "\n",
    "print(\"Earth:\",EarthPeriod/(3600*24), \" days\")\n",
    "print(\"Venus:\",VenusPeriod/(3600*24), \" days\")\n",
    "print(\"Jupiter:\", JupiterPeriod/(3600*24), \" days\")"
   ]
  },
  {
   "cell_type": "markdown",
   "metadata": {},
   "source": [
    "### 2 - Quantum Tunneling\n",
    "(A) Exercise 2.5"
   ]
  },
  {
   "cell_type": "code",
   "execution_count": 9,
   "metadata": {},
   "outputs": [],
   "source": [
    "def TransmissionReflection(m,E,V):\n",
    "    hbar = 6.5821e-16 #eV s\n",
    "    k1 = np.sqrt(2*m*E) / hbar\n",
    "    k2 = np.sqrt(2*m*(E-V)) / hbar\n",
    "    T = (4*k1*k2)/(k1+k2)**2\n",
    "    R = ((k1 - k2)/(k1+k2))**2\n",
    "    return(T,R)"
   ]
  },
  {
   "cell_type": "code",
   "execution_count": 10,
   "metadata": {},
   "outputs": [
    {
     "name": "stdout",
     "output_type": "stream",
     "text": [
      "T= 0.7301261363877615\n",
      "R= 0.26987386361223825\n"
     ]
    }
   ],
   "source": [
    "m = 9.11e-31\n",
    "E = 10\n",
    "V = 9\n",
    "result = TransmissionReflection(m,E,V)\n",
    "print(\"T=\",result[0])\n",
    "print(\"R=\",result[1])"
   ]
  },
  {
   "cell_type": "markdown",
   "metadata": {},
   "source": [
    "(B)"
   ]
  },
  {
   "cell_type": "code",
   "execution_count": 11,
   "metadata": {},
   "outputs": [
    {
     "name": "stdout",
     "output_type": "stream",
     "text": [
      "[0, 1, 2, 3, 4, 5, 6, 7, 8, 9, 10]\n",
      "[1.0, 0.9993065183904875, 0.9968943799848581, 0.9920908936857081, 0.983866769659335, 0.9705627484771407, 0.9493082760794023, 0.9146067327078852, 0.8541019662496846, 0.7301261363877615, 0.0]\n",
      "[0.0, 0.000693481609512308, 0.003105620015141866, 0.007909106314291932, 0.01613323034066494, 0.029437251522859424, 0.05069172392059762, 0.08539326729211474, 0.14589803375031554, 0.26987386361223825, 1.0]\n"
     ]
    }
   ],
   "source": [
    "m = 9.11e-31\n",
    "E = 10\n",
    "V = []\n",
    "T = []\n",
    "R = []\n",
    "\n",
    "for x in range(11):\n",
    "    V.append(x)\n",
    "    result = TransmissionReflection(m,E,x)\n",
    "    T.append(result[0])\n",
    "    R.append(result[1])\n",
    "    \n",
    "print(V)\n",
    "print(T)\n",
    "print(R)\n",
    "\n",
    "np.savetxt('StepPotential.csv', (V,T,R), delimiter=',')"
   ]
  },
  {
   "cell_type": "markdown",
   "metadata": {},
   "source": [
    "### 3 - Madelung Constant for NaCl\n",
    "(A) Exercise 2.9"
   ]
  },
  {
   "cell_type": "code",
   "execution_count": 95,
   "metadata": {},
   "outputs": [],
   "source": [
    "def Madelung(x): #max L, input x must be greater than or equal to 1\n",
    "    new = 0\n",
    "    V_list = []\n",
    "    L = 1\n",
    "    stop = 0\n",
    "    while L <= x: #from here on, for increasing L we only need to add terms where i,j,k = {-L,+L} \n",
    "        if stop ==1:\n",
    "            break\n",
    "        V = 0\n",
    "        L_list = range(-L,L+1)\n",
    "        for i in L_list:\n",
    "            for j in L_list:\n",
    "                for k in L_list:\n",
    "                    if i ==0 and j ==0 and k ==0:\n",
    "                        continue\n",
    "                    else:\n",
    "                        new = ((-1.)**(i+j+k))*np.sqrt(i**2 + j**2 + k**2)**(-1)\n",
    "                        V += new\n",
    "                        if np.abs(new) < np.abs(0.001*V):\n",
    "                            stop = 1 \n",
    "        V_list.append(V)\n",
    "        print(\"L=\",L,V)\n",
    "        L+= 1\n",
    "    return(V,\"Final L: \",L,V_list)"
   ]
  },
  {
   "cell_type": "code",
   "execution_count": 99,
   "metadata": {},
   "outputs": [
    {
     "name": "stdout",
     "output_type": "stream",
     "text": [
      "L= 1 -2.1335207792784368\n",
      "L= 2 -1.516646336266923\n",
      "L= 3 -1.9125039789591567\n",
      "L= 4 -1.6192696788703898\n",
      "L= 5 -1.852535490412281\n",
      "L= 6 -1.6587422894726997\n",
      "L= 7 -1.8245442337282207\n",
      "L= 8 -1.6796412454744765\n",
      "L= 9 -1.8083381857782097\n",
      "L= 10 -1.6925789282594415\n",
      "L= 11 -1.7977689192231834\n",
      "L= 12 -1.701376603826924\n",
      "L= 13 -1.7903312603332933\n",
      "L= 14 -1.7077473493105542\n",
      "L= 15 -1.7848129886238444\n",
      "L= 16 -1.7125736768878468\n",
      "L= 17 -1.7805560328799237\n",
      "L= 18 -1.7163564762960848\n",
      "L= 19 -1.7771722974240172\n",
      "L= 20 -1.719401169453936\n",
      "L= 21 -1.774418093487493\n",
      "L= 22 -1.7219045842925453\n",
      "L= 23 -1.772132689888026\n",
      "L= 24 -1.7239992785836562\n",
      "L= 25 -1.7702057807918192\n",
      "L= 26 -1.7257777927382638\n",
      "L= 27 -1.7685591492810777\n",
      "L= 28 -1.7273066909486219\n",
      "L= 29 -1.7671357897797149\n",
      "L= 30 -1.7286350779648982\n",
      "L= 31 -1.7658931743054418\n",
      "L= 32 -1.7297999712236625\n",
      "L= 33 -1.7647989308048302\n",
      "L= 34 -1.730829804413132\n",
      "L= 35 -1.7638279823314569\n",
      "L= 36 -1.7317467791831482\n",
      "L= 37 -1.7629606016851542\n",
      "L= 38 -1.7325684838555833\n",
      "L= 39 -1.7621810570467928\n",
      "L= 40 -1.733309032516655\n",
      "L= 41 -1.7614766492362637\n",
      "L= 42 -1.7339798824842563\n",
      "L= 43 -1.7608370145543646\n",
      "L= 44 -1.7345904313341334\n",
      "L= 45 -1.7602536114903558\n",
      "L= 46 -1.7351484598547982\n",
      "L= 47 -1.759719337103616\n",
      "L= 48 -1.7356604654063812\n",
      "L= 49 -1.7592282364035245\n",
      "L= 50 -1.736131916063904\n",
      "L= 51 -1.758775279446071\n",
      "L= 52 -1.7365674466723457\n",
      "L= 53 -1.7583561884288448\n",
      "L= 54 -1.736971011732141\n",
      "L= 55 -1.7579673021688385\n",
      "L= 56 -1.7373460058148347\n",
      "L= 57 -1.7576054688657459\n",
      "L= 58 -1.7376953592767648\n",
      "L= 59 -1.7572679604901722\n",
      "L= 60 -1.7380216149895689\n",
      "L= 61 -1.7569524038786113\n",
      "L= 62 -1.7383269903369576\n",
      "L= 63 -1.7566567248484983\n",
      "L= 64 -1.7386134276783998\n",
      "L= 65 -1.7563791025531248\n",
      "L= 66 -1.7388826357065033\n",
      "L= 67 -1.7561179319491977\n",
      "L= 68 -1.7391361235577385\n",
      "L= 69 -1.7558717927467211\n",
      "L= 70 -1.7393752291197557\n",
      "L= 71 -1.7556394235697355\n",
      "L= 72 -1.739601142650835\n",
      "L= 73 -1.7554197003338603\n",
      "L= 74 -1.7398149265963485\n",
      "L= 75 -1.7552116180643047\n",
      "L= 76 -1.740017532296484\n",
      "L= 77 -1.7550142755247644\n",
      "L= 78 -1.740209814139324\n",
      "L= 79 -1.7548268621695686\n",
      "L= 80 -1.7403925416049266\n",
      "L= 81 -1.754648647015668\n",
      "L= 82 -1.74056640955711\n",
      "L= 83 -1.75447896911488\n",
      "L= 84 -1.7407320470737875\n",
      "L= 85 -1.754317229361543\n",
      "L= 86 -1.7408900250522672\n",
      "L= 87 -1.754162883425235\n",
      "L= 88 -1.741040862782846\n",
      "L= 89 -1.7540154356312885\n",
      "L= 90 -1.7411850336523977\n",
      "L= 91 -1.7538744336425716\n",
      "L= 92 -1.741322970106105\n",
      "L= 93 -1.753739463824381\n",
      "L= 94 -1.7414550679796514\n",
      "L= 95 -1.7536101471922858\n",
      "L= 96 -1.741581690293706\n",
      "L= 97 -1.7534861358581193\n",
      "L= 98 -1.7417031705851518\n",
      "L= 99 -1.7533671099041348\n",
      "L= 100 -1.7418198158396623\n",
      "(-1.7418198158396623, 'Final L: ', 101, [-2.1335207792784368, -1.516646336266923, -1.9125039789591567, -1.6192696788703898, -1.852535490412281, -1.6587422894726997, -1.8245442337282207, -1.6796412454744765, -1.8083381857782097, -1.6925789282594415, -1.7977689192231834, -1.701376603826924, -1.7903312603332933, -1.7077473493105542, -1.7848129886238444, -1.7125736768878468, -1.7805560328799237, -1.7163564762960848, -1.7771722974240172, -1.719401169453936, -1.774418093487493, -1.7219045842925453, -1.772132689888026, -1.7239992785836562, -1.7702057807918192, -1.7257777927382638, -1.7685591492810777, -1.7273066909486219, -1.7671357897797149, -1.7286350779648982, -1.7658931743054418, -1.7297999712236625, -1.7647989308048302, -1.730829804413132, -1.7638279823314569, -1.7317467791831482, -1.7629606016851542, -1.7325684838555833, -1.7621810570467928, -1.733309032516655, -1.7614766492362637, -1.7339798824842563, -1.7608370145543646, -1.7345904313341334, -1.7602536114903558, -1.7351484598547982, -1.759719337103616, -1.7356604654063812, -1.7592282364035245, -1.736131916063904, -1.758775279446071, -1.7365674466723457, -1.7583561884288448, -1.736971011732141, -1.7579673021688385, -1.7373460058148347, -1.7576054688657459, -1.7376953592767648, -1.7572679604901722, -1.7380216149895689, -1.7569524038786113, -1.7383269903369576, -1.7566567248484983, -1.7386134276783998, -1.7563791025531248, -1.7388826357065033, -1.7561179319491977, -1.7391361235577385, -1.7558717927467211, -1.7393752291197557, -1.7556394235697355, -1.739601142650835, -1.7554197003338603, -1.7398149265963485, -1.7552116180643047, -1.740017532296484, -1.7550142755247644, -1.740209814139324, -1.7548268621695686, -1.7403925416049266, -1.754648647015668, -1.74056640955711, -1.75447896911488, -1.7407320470737875, -1.754317229361543, -1.7408900250522672, -1.754162883425235, -1.741040862782846, -1.7540154356312885, -1.7411850336523977, -1.7538744336425716, -1.741322970106105, -1.753739463824381, -1.7414550679796514, -1.7536101471922858, -1.741581690293706, -1.7534861358581193, -1.7417031705851518, -1.7533671099041348, -1.7418198158396623])\n"
     ]
    }
   ],
   "source": [
    "Result = Madelung(100)\n",
    "print(Result)"
   ]
  },
  {
   "cell_type": "markdown",
   "metadata": {},
   "source": [
    "(B) Plotting"
   ]
  },
  {
   "cell_type": "code",
   "execution_count": 100,
   "metadata": {},
   "outputs": [],
   "source": [
    "import pylab"
   ]
  },
  {
   "cell_type": "code",
   "execution_count": 113,
   "metadata": {},
   "outputs": [
    {
     "data": {
      "text/plain": [
       "<matplotlib.legend.Legend at 0x1efe3195e08>"
      ]
     },
     "execution_count": 113,
     "metadata": {},
     "output_type": "execute_result"
    },
    {
     "data": {
      "image/png": "[encoded data removed]",
      "text/plain": [
       "<Figure size 432x288 with 1 Axes>"
      ]
     },
     "metadata": {
      "needs_background": "light"
     },
     "output_type": "display_data"
    }
   ],
   "source": [
    "y = Result[3]\n",
    "x = np.arange(100)\n",
    "\n",
    "M = [-1.747565]*100\n",
    "\n",
    "pylab.plot(x,y,label='Estimated')\n",
    "pylab.plot(x,M,':',label='Predicted')\n",
    "\n",
    "pylab.xlabel('L')\n",
    "pylab.ylabel('M')\n",
    "pylab.title('Estimated vs Predicted Madelung Constant')\n",
    "pylab.legend(loc='upper right')"
   ]
  },
  {
   "cell_type": "markdown",
   "metadata": {},
   "source": [
    "### 4 - 2D Motion"
   ]
  },
  {
   "cell_type": "code",
   "execution_count": 119,
   "metadata": {},
   "outputs": [],
   "source": [
    "from vpython import *"
   ]
  },
  {
   "cell_type": "code",
   "execution_count": 137,
   "metadata": {},
   "outputs": [
    {
     "data": {
      "text/html": [
       "<div id=\"glowscript\" class=\"glowscript\"></div>"
      ],
      "text/plain": [
       "<IPython.core.display.HTML object>"
      ]
     },
     "metadata": {},
     "output_type": "display_data"
    },
    {
     "data": {
      "application/javascript": [
       "if (typeof Jupyter !== \"undefined\") { window.__context = { glowscript_container: $(\"#glowscript\").removeAttr(\"id\")};}else{ element.textContent = ' ';}"
      ],
      "text/plain": [
       "<IPython.core.display.Javascript object>"
      ]
     },
     "metadata": {},
     "output_type": "display_data"
    }
   ],
   "source": [
    "h = 100\n",
    "v0 = 0\n",
    "theta = 0\n",
    "g = 10\n",
    "\n",
    "t=0\n",
    "dt=0.01\n",
    "x = 0\n",
    "y = h\n",
    "\n",
    "scene=canvas(width=200,height=200)\n",
    "ball=sphere(pos=vector(x,y,0),radius=10.,color=color.orange)\n",
    "while y > 0:\n",
    "    t += dt\n",
    "    rate(1./dt)\n",
    "    x+= v0*(t) * np.cos(theta)\n",
    "    y+=h + v0*(t)*np.sin(theta) - 0.5*g*t**2\n",
    "    ball.pos=vector(x,y,0)"
   ]
  },
  {
   "cell_type": "code",
   "execution_count": 146,
   "metadata": {},
   "outputs": [
    {
     "data": {
      "text/html": [
       "<div id=\"glowscript\" class=\"glowscript\"></div>"
      ],
      "text/plain": [
       "<IPython.core.display.HTML object>"
      ]
     },
     "metadata": {},
     "output_type": "display_data"
    },
    {
     "data": {
      "application/javascript": [
       "if (typeof Jupyter !== \"undefined\") { window.__context = { glowscript_container: $(\"#glowscript\").removeAttr(\"id\")};}else{ element.textContent = ' ';}"
      ],
      "text/plain": [
       "<IPython.core.display.Javascript object>"
      ]
     },
     "metadata": {},
     "output_type": "display_data"
    }
   ],
   "source": [
    "h = 190\n",
    "v0 = 5\n",
    "theta = np.pi\n",
    "g = 10\n",
    "\n",
    "t=0\n",
    "dt=0.01\n",
    "x = 0\n",
    "y = h\n",
    "\n",
    "scene=canvas(width=200,height=200)\n",
    "ball=sphere(pos=vector(x,y,0),radius=5.,color=color.orange)\n",
    "while y > 0:\n",
    "    t += dt\n",
    "    rate(1./dt)\n",
    "    x+= v0*(t) * np.cos(theta)\n",
    "    y+=h + v0*(t)*np.sin(theta) - 0.5*g*t**2\n",
    "    ball.pos=vector(x,y,0)"
   ]
  },
  {
   "cell_type": "code",
   "execution_count": 147,
   "metadata": {},
   "outputs": [
    {
     "data": {
      "text/html": [
       "<div id=\"glowscript\" class=\"glowscript\"></div>"
      ],
      "text/plain": [
       "<IPython.core.display.HTML object>"
      ]
     },
     "metadata": {},
     "output_type": "display_data"
    },
    {
     "data": {
      "application/javascript": [
       "if (typeof Jupyter !== \"undefined\") { window.__context = { glowscript_container: $(\"#glowscript\").removeAttr(\"id\")};}else{ element.textContent = ' ';}"
      ],
      "text/plain": [
       "<IPython.core.display.Javascript object>"
      ]
     },
     "metadata": {},
     "output_type": "display_data"
    }
   ],
   "source": [
    "h = 200\n",
    "v0 = 20\n",
    "theta = np.pi/3\n",
    "g = 10\n",
    "\n",
    "t=0\n",
    "dt=0.01\n",
    "x = 0\n",
    "y = h\n",
    "\n",
    "scene=canvas(width=200,height=200)\n",
    "ball=sphere(pos=vector(x,y,0),radius=5.,color=color.orange)\n",
    "while y > 0:\n",
    "    t += dt\n",
    "    rate(1./dt)\n",
    "    x+= v0*(t) * np.cos(theta)\n",
    "    y+=h + v0*(t)*np.sin(theta) - 0.5*g*t**2\n",
    "    ball.pos=vector(x,y,0)"
   ]
  },
  {
   "cell_type": "code",
   "execution_count": null,
   "metadata": {},
   "outputs": [],
   "source": []
  }
 ],
 "metadata": {
  "kernelspec": {
   "display_name": "Python 3",
   "language": "python",
   "name": "python3"
  },
  "language_info": {
   "codemirror_mode": {
    "name": "ipython",
    "version": 3
   },
   "file_extension": ".py",
   "mimetype": "text/x-python",
   "name": "python",
   "nbconvert_exporter": "python",
   "pygments_lexer": "ipython3",
   "version": "3.7.4"
  }
 },
 "nbformat": 4,
 "nbformat_minor": 2
}
